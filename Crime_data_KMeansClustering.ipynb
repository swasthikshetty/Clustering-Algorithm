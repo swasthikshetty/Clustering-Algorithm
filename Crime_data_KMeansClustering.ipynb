{
 "cells": [
  {
   "cell_type": "code",
   "execution_count": 1,
   "metadata": {},
   "outputs": [
    {
     "data": {
      "text/html": [
       "<div>\n",
       "<style scoped>\n",
       "    .dataframe tbody tr th:only-of-type {\n",
       "        vertical-align: middle;\n",
       "    }\n",
       "\n",
       "    .dataframe tbody tr th {\n",
       "        vertical-align: top;\n",
       "    }\n",
       "\n",
       "    .dataframe thead th {\n",
       "        text-align: right;\n",
       "    }\n",
       "</style>\n",
       "<table border=\"1\" class=\"dataframe\">\n",
       "  <thead>\n",
       "    <tr style=\"text-align: right;\">\n",
       "      <th></th>\n",
       "      <th>State</th>\n",
       "      <th>Murder</th>\n",
       "      <th>Assault</th>\n",
       "      <th>UrbanPop</th>\n",
       "      <th>Rape</th>\n",
       "    </tr>\n",
       "  </thead>\n",
       "  <tbody>\n",
       "    <tr>\n",
       "      <th>0</th>\n",
       "      <td>Alabama</td>\n",
       "      <td>13.2</td>\n",
       "      <td>236</td>\n",
       "      <td>58</td>\n",
       "      <td>21.2</td>\n",
       "    </tr>\n",
       "    <tr>\n",
       "      <th>1</th>\n",
       "      <td>Alaska</td>\n",
       "      <td>10.0</td>\n",
       "      <td>263</td>\n",
       "      <td>48</td>\n",
       "      <td>44.5</td>\n",
       "    </tr>\n",
       "    <tr>\n",
       "      <th>2</th>\n",
       "      <td>Arizona</td>\n",
       "      <td>8.1</td>\n",
       "      <td>294</td>\n",
       "      <td>80</td>\n",
       "      <td>31.0</td>\n",
       "    </tr>\n",
       "  </tbody>\n",
       "</table>\n",
       "</div>"
      ],
      "text/plain": [
       "     State  Murder  Assault  UrbanPop  Rape\n",
       "0  Alabama    13.2      236        58  21.2\n",
       "1   Alaska    10.0      263        48  44.5\n",
       "2  Arizona     8.1      294        80  31.0"
      ]
     },
     "execution_count": 1,
     "metadata": {},
     "output_type": "execute_result"
    }
   ],
   "source": [
    "import pandas as pd\n",
    "import numpy as np\n",
    "import matplotlib.pyplot as plt\n",
    "from sklearn.cluster import KMeans\n",
    "from scipy.spatial.distance import cdist\n",
    "\n",
    "crime_data = pd.read_csv(\"C:/Users/Swathi/Desktop/Excelr Classes/Assignments/6.Clustering/crime_data.csv\")\n",
    "crime_data.head(3)"
   ]
  },
  {
   "cell_type": "code",
   "execution_count": 2,
   "metadata": {},
   "outputs": [
    {
     "data": {
      "text/html": [
       "<div>\n",
       "<style scoped>\n",
       "    .dataframe tbody tr th:only-of-type {\n",
       "        vertical-align: middle;\n",
       "    }\n",
       "\n",
       "    .dataframe tbody tr th {\n",
       "        vertical-align: top;\n",
       "    }\n",
       "\n",
       "    .dataframe thead th {\n",
       "        text-align: right;\n",
       "    }\n",
       "</style>\n",
       "<table border=\"1\" class=\"dataframe\">\n",
       "  <thead>\n",
       "    <tr style=\"text-align: right;\">\n",
       "      <th></th>\n",
       "      <th>Murder</th>\n",
       "      <th>Assault</th>\n",
       "      <th>UrbanPop</th>\n",
       "      <th>Rape</th>\n",
       "    </tr>\n",
       "  </thead>\n",
       "  <tbody>\n",
       "    <tr>\n",
       "      <th>0</th>\n",
       "      <td>0.746988</td>\n",
       "      <td>0.654110</td>\n",
       "      <td>0.440678</td>\n",
       "      <td>0.359173</td>\n",
       "    </tr>\n",
       "    <tr>\n",
       "      <th>1</th>\n",
       "      <td>0.554217</td>\n",
       "      <td>0.746575</td>\n",
       "      <td>0.271186</td>\n",
       "      <td>0.961240</td>\n",
       "    </tr>\n",
       "    <tr>\n",
       "      <th>2</th>\n",
       "      <td>0.439759</td>\n",
       "      <td>0.852740</td>\n",
       "      <td>0.813559</td>\n",
       "      <td>0.612403</td>\n",
       "    </tr>\n",
       "  </tbody>\n",
       "</table>\n",
       "</div>"
      ],
      "text/plain": [
       "     Murder   Assault  UrbanPop      Rape\n",
       "0  0.746988  0.654110  0.440678  0.359173\n",
       "1  0.554217  0.746575  0.271186  0.961240\n",
       "2  0.439759  0.852740  0.813559  0.612403"
      ]
     },
     "execution_count": 2,
     "metadata": {},
     "output_type": "execute_result"
    }
   ],
   "source": [
    "#Normalize data\n",
    "\n",
    "def norm_func(i):\n",
    "    x=(i-i.min())/(i.max() - i.min())\n",
    "    return(x)\n",
    "\n",
    "n_crimedata = norm_func(crime_data.iloc[:,1:])\n",
    "n_crimedata.head(3)"
   ]
  },
  {
   "cell_type": "code",
   "execution_count": 3,
   "metadata": {},
   "outputs": [
    {
     "data": {
      "image/png": "[encoded data removed]",
      "text/plain": [
       "<Figure size 720x360 with 1 Axes>"
      ]
     },
     "metadata": {
      "needs_background": "light"
     },
     "output_type": "display_data"
    }
   ],
   "source": [
    "#Generate Elbow Curve\n",
    "\n",
    "k = list(range(3,10))\n",
    "\n",
    "Total_WSS=[]\n",
    "\n",
    "for i in k:\n",
    "    kmean=KMeans(n_clusters=i).fit(n_crimedata)\n",
    "    WSS=[]\n",
    "    for j in range(i):\n",
    "        WSS.append(sum(cdist(n_crimedata.iloc[kmean.labels_==j,:],kmean.cluster_centers_[j].reshape(1,n_crimedata.shape[1]),\"euclidean\" )))\n",
    "    Total_WSS.append(sum(WSS))\n",
    "plt.figure(figsize=(10,5))\n",
    "plt.plot(k,Total_WSS,'ro-') \n",
    "plt.xticks(k)\n",
    "plt.show()\n"
   ]
  },
  {
   "cell_type": "code",
   "execution_count": 4,
   "metadata": {},
   "outputs": [
    {
     "name": "stdout",
     "output_type": "stream",
     "text": [
      "    cluster       State  Murder  Assault  UrbanPop  Rape\n",
      "21        0    Michigan    12.1      255        74  35.1\n",
      "1         0      Alaska    10.0      263        48  44.5\n",
      "2         0     Arizona     8.1      294        80  31.0\n",
      "19        0    Maryland    11.3      300        67  27.8\n",
      "4         0  California     9.0      276        91  40.6\n"
     ]
    }
   ],
   "source": [
    "# Applying K-means clustering\n",
    "\n",
    "Kmean_model=KMeans(n_clusters=4).fit(n_crimedata)\n",
    "model_labels=pd.Series(Kmean_model.labels_)  # converting numpy array into pandas series object \n",
    "\n",
    "crime_data['cluster']=model_labels # creating a  new column and assigning it to new column \n",
    "crime_data = crime_data.iloc[:,[5,0,1,2,3,4]]\n",
    "\n",
    "crime_data.iloc[:,1:7].groupby(crime_data.cluster).mean()\n",
    "crime_data.sort_values(by=['cluster'], inplace=True)\n",
    "\n",
    "print(crime_data.head())\n",
    "\n"
   ]
  },
  {
   "cell_type": "code",
   "execution_count": 5,
   "metadata": {},
   "outputs": [],
   "source": [
    "crime_data.to_csv(\"crime_data_Kmean.csv\")"
   ]
  }
 ],
 "metadata": {
  "kernelspec": {
   "display_name": "Python 3",
   "language": "python",
   "name": "python3"
  },
  "language_info": {
   "codemirror_mode": {
    "name": "ipython",
    "version": 3
   },
   "file_extension": ".py",
   "mimetype": "text/x-python",
   "name": "python",
   "nbconvert_exporter": "python",
   "pygments_lexer": "ipython3",
   "version": "3.7.6"
  }
 },
 "nbformat": 4,
 "nbformat_minor": 4
}
